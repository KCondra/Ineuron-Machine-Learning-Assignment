{
 "cells": [
  {
   "cell_type": "markdown",
   "id": "31e7574c",
   "metadata": {},
   "source": [
    "# Assignment -2 List and strings\n"
   ]
  },
  {
   "cell_type": "code",
   "execution_count": 1,
   "id": "073cf639",
   "metadata": {},
   "outputs": [
    {
     "name": "stdout",
     "output_type": "stream",
     "text": [
      "enter your number5\n",
      "      \n",
      "*      \n",
      "* *     \n",
      "* * *    \n",
      "* * * *   \n",
      "* * * * *  \n",
      "* * * *   \n",
      "* * *    \n",
      "* *     \n",
      "*      \n"
     ]
    }
   ],
   "source": [
    "# right triangle pattern\n",
    "n = int(input('enter your number'))\n",
    "for i in range(0,n):\n",
    "    print(\"* \"* i,\" \"*(n-i))\n",
    "for i in range(n,0,-1):\n",
    "    print(\"* \"* i,\" \"*(n-i))"
   ]
  },
  {
   "cell_type": "code",
   "execution_count": 3,
   "id": "2a60cfb2",
   "metadata": {},
   "outputs": [
    {
     "name": "stdout",
     "output_type": "stream",
     "text": [
      "enter name \tineuron\n",
      "Reversed alphabet \t norueni\n"
     ]
    }
   ],
   "source": [
    "# Python program to reverse the word entered by the user\n",
    "name = input('enter name \\t')\n",
    "print('Reversed alphabet \\t',name[::-1])"
   ]
  },
  {
   "cell_type": "code",
   "execution_count": null,
   "id": "3d928f74",
   "metadata": {},
   "outputs": [],
   "source": []
  },
  {
   "cell_type": "code",
   "execution_count": null,
   "id": "05405c0b",
   "metadata": {},
   "outputs": [],
   "source": []
  },
  {
   "cell_type": "code",
   "execution_count": null,
   "id": "b7fade6a",
   "metadata": {},
   "outputs": [],
   "source": []
  },
  {
   "cell_type": "code",
   "execution_count": null,
   "id": "c69c6c40",
   "metadata": {},
   "outputs": [],
   "source": []
  },
  {
   "cell_type": "code",
   "execution_count": null,
   "id": "a7ec57c3",
   "metadata": {},
   "outputs": [],
   "source": []
  }
 ],
 "metadata": {
  "kernelspec": {
   "display_name": "Python 3 (ipykernel)",
   "language": "python",
   "name": "python3"
  },
  "language_info": {
   "codemirror_mode": {
    "name": "ipython",
    "version": 3
   },
   "file_extension": ".py",
   "mimetype": "text/x-python",
   "name": "python",
   "nbconvert_exporter": "python",
   "pygments_lexer": "ipython3",
   "version": "3.9.12"
  }
 },
 "nbformat": 4,
 "nbformat_minor": 5
}
